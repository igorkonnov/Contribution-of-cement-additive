{
    "cells": [
        {
            "metadata": {},
            "cell_type": "code",
            "source": "import ibm_boto3\nfrom botocore.client import Config\nimport json\nimport pandas as pd\nimport numpy as np\nimport seaborn as sns\nimport matplotlib.pyplot as plt\nfrom sklearn.linear_model import LinearRegression\nfrom scipy import stats",
            "execution_count": 1,
            "outputs": []
        },
        {
            "metadata": {},
            "cell_type": "markdown",
            "source": "### Have been tested 170 industrial cement samples , 123 samples treated by XS 111 , 47 samples are blank cement . * the qulity data are not real , have been changed for security reason",
            "attachments": {}
        },
        {
            "metadata": {},
            "cell_type": "code",
            "source": "\nimport types\nimport pandas as pd\nfrom botocore.client import Config\nimport ibm_boto3\n\ndef __iter__(self): return 0\n\n# @hidden_cell\n# The following code accesses a file in your IBM Cloud Object Storage. It includes your credentials.\n# You might want to remove those credentials before you share the notebook.\nclient_fc64c72832fd4bb4acc55e7c706cc0b0 = ibm_boto3.client(service_name='s3',\n    ibm_api_key_id='jSlWaQ63hRIXJWRxn2Y-FMQ9jd78_KkQzC8u9zyBgsHG',\n    ibm_auth_endpoint=\"https://iam.eu-gb.bluemix.net/oidc/token\",\n    config=Config(signature_version='oauth'),\n    endpoint_url='https://s3.eu-geo.objectstorage.service.networklayer.com')\n\nbody = client_fc64c72832fd4bb4acc55e7c706cc0b0.get_object(Bucket='ik-donotdelete-pr-fbdrd7m6jjx2ca',Key='Copy of 28D.xlsx')['Body']\n# add missing __iter__ method, so pandas accepts body as file-like object\nif not hasattr(body, \"__iter__\"): body.__iter__ = types.MethodType( __iter__, body )\n\ndf_data_0 = pd.read_excel(body)\ndf_data_0.head()\n",
            "execution_count": 2,
            "outputs": [
                {
                    "output_type": "execute_result",
                    "execution_count": 2,
                    "data": {
                        "text/plain": "   N                date   Blain    2D   28D  Steam curing   CaO, %   LOI  \\\n0  1          30.03-01.04   4002  36.3  56.0           40.0    1.03  1.01   \n1  2          02.04-03.04   3960  32.9  53.2           40.4    1.36  1.15   \n2  3  2018-04-04 00:00:00   3918  28.6  53.6           38.6    1.23  1.13   \n3  4          04.04-05.04   3918  34.1  53.7           40.2    1.19  1.26   \n4  5          05.04-06.04   3934  36.2  57.0           39.4    0.96  1.42   \n\n   MgO, \\n%  SO\u2083, \\n%  SFA  XS111  \n0      2.77      3.58  NaN      1  \n1      2.75      3.48  NaN      1  \n2      3.18      3.33  NaN      0  \n3      3.21      3.16  NaN      0  \n4      3.01      3.43  NaN      1  ",
                        "text/html": "<div>\n<style scoped>\n    .dataframe tbody tr th:only-of-type {\n        vertical-align: middle;\n    }\n\n    .dataframe tbody tr th {\n        vertical-align: top;\n    }\n\n    .dataframe thead th {\n        text-align: right;\n    }\n</style>\n<table border=\"1\" class=\"dataframe\">\n  <thead>\n    <tr style=\"text-align: right;\">\n      <th></th>\n      <th>N</th>\n      <th>date</th>\n      <th>Blain</th>\n      <th>2D</th>\n      <th>28D</th>\n      <th>Steam curing</th>\n      <th>CaO, %</th>\n      <th>LOI</th>\n      <th>MgO, \n%</th>\n      <th>SO\u2083, \n%</th>\n      <th>SFA</th>\n      <th>XS111</th>\n    </tr>\n  </thead>\n  <tbody>\n    <tr>\n      <th>0</th>\n      <td>1</td>\n      <td>30.03-01.04</td>\n      <td>4002</td>\n      <td>36.3</td>\n      <td>56.0</td>\n      <td>40.0</td>\n      <td>1.03</td>\n      <td>1.01</td>\n      <td>2.77</td>\n      <td>3.58</td>\n      <td>NaN</td>\n      <td>1</td>\n    </tr>\n    <tr>\n      <th>1</th>\n      <td>2</td>\n      <td>02.04-03.04</td>\n      <td>3960</td>\n      <td>32.9</td>\n      <td>53.2</td>\n      <td>40.4</td>\n      <td>1.36</td>\n      <td>1.15</td>\n      <td>2.75</td>\n      <td>3.48</td>\n      <td>NaN</td>\n      <td>1</td>\n    </tr>\n    <tr>\n      <th>2</th>\n      <td>3</td>\n      <td>2018-04-04 00:00:00</td>\n      <td>3918</td>\n      <td>28.6</td>\n      <td>53.6</td>\n      <td>38.6</td>\n      <td>1.23</td>\n      <td>1.13</td>\n      <td>3.18</td>\n      <td>3.33</td>\n      <td>NaN</td>\n      <td>0</td>\n    </tr>\n    <tr>\n      <th>3</th>\n      <td>4</td>\n      <td>04.04-05.04</td>\n      <td>3918</td>\n      <td>34.1</td>\n      <td>53.7</td>\n      <td>40.2</td>\n      <td>1.19</td>\n      <td>1.26</td>\n      <td>3.21</td>\n      <td>3.16</td>\n      <td>NaN</td>\n      <td>0</td>\n    </tr>\n    <tr>\n      <th>4</th>\n      <td>5</td>\n      <td>05.04-06.04</td>\n      <td>3934</td>\n      <td>36.2</td>\n      <td>57.0</td>\n      <td>39.4</td>\n      <td>0.96</td>\n      <td>1.42</td>\n      <td>3.01</td>\n      <td>3.43</td>\n      <td>NaN</td>\n      <td>1</td>\n    </tr>\n  </tbody>\n</table>\n</div>"
                    },
                    "metadata": {}
                }
            ]
        },
        {
            "metadata": {},
            "cell_type": "markdown",
            "source": "     XS 111 is a quality improver grinding aid , designed to improve cement quality especially 28 days strength"
        },
        {
            "metadata": {},
            "cell_type": "code",
            "source": "q_data = df_data_0",
            "execution_count": 3,
            "outputs": []
        },
        {
            "metadata": {},
            "cell_type": "markdown",
            "source": "### All qulity data correlation with 28 D"
        },
        {
            "metadata": {},
            "cell_type": "code",
            "source": "q_data.corr()['28D'].sort_values()",
            "execution_count": 4,
            "outputs": [
                {
                    "output_type": "execute_result",
                    "execution_count": 4,
                    "data": {
                        "text/plain": "LOI             -0.369423\nMgO, \\n%        -0.197227\nSO\u2083, \\n%        -0.141759\nCaO, %          -0.095464\nBlain            0.159842\nXS111            0.260152\n2D               0.302335\nN                0.434268\nSteam curing     0.476606\n28D              1.000000\nName: 28D, dtype: float64"
                    },
                    "metadata": {}
                }
            ]
        },
        {
            "metadata": {},
            "cell_type": "code",
            "source": "q_data = q_data.rename(columns={\"Blain\": \"Blaine\"})",
            "execution_count": 5,
            "outputs": []
        },
        {
            "metadata": {},
            "cell_type": "markdown",
            "source": "### Linear Regression Blaine vs 28D strength"
        },
        {
            "metadata": {},
            "cell_type": "code",
            "source": "sns.regplot(x=\"Blaine\", y=\"28D\", data=q_data)",
            "execution_count": 6,
            "outputs": [
                {
                    "output_type": "execute_result",
                    "execution_count": 6,
                    "data": {
                        "text/plain": "<matplotlib.axes._subplots.AxesSubplot at 0x7fa492246f28>"
                    },
                    "metadata": {}
                },
                {
                    "output_type": "display_data",
                    "data": {
                        "text/plain": "<Figure size 432x288 with 1 Axes>",
                        "image/png": "[encoded data removed]"
                    },
                    "metadata": {
                        "needs_background": "light"
                    }
                }
            ]
        },
        {
            "metadata": {},
            "cell_type": "markdown",
            "source": "### Linear regression Blaine vs 2 D strength"
        },
        {
            "metadata": {},
            "cell_type": "code",
            "source": "sns.regplot(x=\"Blaine\", y=\"2D\", data=q_data)",
            "execution_count": 7,
            "outputs": [
                {
                    "output_type": "execute_result",
                    "execution_count": 7,
                    "data": {
                        "text/plain": "<matplotlib.axes._subplots.AxesSubplot at 0x7fa4919c52b0>"
                    },
                    "metadata": {}
                },
                {
                    "output_type": "display_data",
                    "data": {
                        "text/plain": "<Figure size 432x288 with 1 Axes>",
                        "image/png": "[encoded data removed]"
                    },
                    "metadata": {
                        "needs_background": "light"
                    }
                }
            ]
        },
        {
            "metadata": {},
            "cell_type": "markdown",
            "source": "Blaine does not seem like a good predictor of this cement quality in this grinding system at all since the regression line is close to horizontal. \nThe data points are very scattered and far from the fitted line, showing lots of variability. Therefore Blaine is  not a reliable predictor of quality.\n"
        },
        {
            "metadata": {},
            "cell_type": "markdown",
            "source": "### Linear model. Coefficient of determination"
        },
        {
            "metadata": {},
            "cell_type": "code",
            "source": "X = q_data[['Blaine']]\nY = q_data['28D']\nlm = LinearRegression()\nlm\nlm.fit(X,Y)\nlm.score(X, Y)\nprint (\"R^2, R-squared = \", lm.score(X, Y))",
            "execution_count": 8,
            "outputs": [
                {
                    "output_type": "stream",
                    "text": "R^2, R-squared =  0.025549522887392317\n",
                    "name": "stdout"
                }
            ]
        },
        {
            "metadata": {},
            "cell_type": "markdown",
            "source": "Only 2,5% of 28 days fitted the regression line\n\nR squared, also known as the coefficient of determination, is a measure to indicate how close the data is to the fitted regression line.\n\nThe value of the R-squared is the percentage of variation of the response variable (y) that is explained by a linear model.\nBlaine SSA can not be a good predictor of cement quality."
        },
        {
            "metadata": {},
            "cell_type": "code",
            "source": "Yhat=lm.predict(X)\nYhat[0:5]   \n",
            "execution_count": 9,
            "outputs": [
                {
                    "output_type": "execute_result",
                    "execution_count": 9,
                    "data": {
                        "text/plain": "array([54.81791783, 54.72749166, 54.63706548, 54.63706548, 54.67151355])"
                    },
                    "metadata": {}
                }
            ]
        },
        {
            "metadata": {},
            "cell_type": "code",
            "source": "lm.intercept_",
            "execution_count": 10,
            "outputs": [
                {
                    "output_type": "execute_result",
                    "execution_count": 10,
                    "data": {
                        "text/plain": "46.2015954544065"
                    },
                    "metadata": {}
                }
            ]
        },
        {
            "metadata": {},
            "cell_type": "code",
            "source": "lm.coef_",
            "execution_count": 11,
            "outputs": [
                {
                    "output_type": "execute_result",
                    "execution_count": 11,
                    "data": {
                        "text/plain": "array([0.002153])"
                    },
                    "metadata": {}
                }
            ]
        },
        {
            "metadata": {},
            "cell_type": "code",
            "source": "a = lm.intercept_\nb = 0.002153",
            "execution_count": 12,
            "outputs": []
        },
        {
            "metadata": {},
            "cell_type": "code",
            "source": "X = 4300",
            "execution_count": 13,
            "outputs": []
        },
        {
            "metadata": {},
            "cell_type": "code",
            "source": "\ud835\udc4c\u210e\ud835\udc4e\ud835\udc61=\ud835\udc4e+\ud835\udc4f*\ud835\udc4b\n\ud835\udc4c\u210e\ud835\udc4e\ud835\udc61",
            "execution_count": 14,
            "outputs": [
                {
                    "output_type": "execute_result",
                    "execution_count": 14,
                    "data": {
                        "text/plain": "55.4594954544065"
                    },
                    "metadata": {}
                }
            ]
        },
        {
            "metadata": {},
            "cell_type": "markdown",
            "source": "compressive strength = 46.20 + 0.002153*Blaine() - formula to prdict 28 d compressive strength "
        },
        {
            "metadata": {},
            "cell_type": "markdown",
            "source": "   ### Pearson Correlation Blain vs 28D , P value "
        },
        {
            "metadata": {},
            "cell_type": "code",
            "source": "pearson_coef, p_value = stats.pearsonr(q_data['Blaine'], q_data['28D'])\nprint(\"The Pearson Correlation Coefficient is\", pearson_coef, \" with a P-value of P =\", p_value)\nprint ((0.1-p_value)*1000, \"% confident that the correlation between the Blain and 28D is significant\")",
            "execution_count": 15,
            "outputs": [
                {
                    "output_type": "stream",
                    "text": "The Pearson Correlation Coefficient is 0.15984218118942262  with a P-value of P = 0.03733176902202249\n62.66823097797752 % confident that the correlation between the Blain and 28D is significant\n",
                    "name": "stdout"
                }
            ]
        },
        {
            "metadata": {},
            "cell_type": "markdown",
            "source": "### Pearson Correlation additive vs 28D , P value "
        },
        {
            "metadata": {},
            "cell_type": "code",
            "source": "pearson_coef, p_value = stats.pearsonr(q_data['XS111'], q_data['28D'])\nprint(\"The Pearson Correlation Coefficient is\", pearson_coef, \" with a P-value of P =\", p_value)  \nprint ((0.1-p_value)*1000, \"% confident that the correlation between QI addition and 28D is significant\")",
            "execution_count": 16,
            "outputs": [
                {
                    "output_type": "stream",
                    "text": "The Pearson Correlation Coefficient is 0.2601519710978522  with a P-value of P = 0.0006122535214516663\n99.38774647854834 % confident that the correlation between QI addition and 28D is significant\n",
                    "name": "stdout"
                }
            ]
        },
        {
            "metadata": {},
            "cell_type": "markdown",
            "source": "P-value:\n\nThe P-value is the probability value that the correlation between these two variables is statistically significant. Normally, we choose a significance level of 0.05, which means that we are 95% confident that the correlation between the variables is significant.\n\nBy convention, when the\n\np-value is < 0.001: we say there is strong evidence that the correlation is significant. the p-value is < 0.05: there is moderate evidence that the correlation is significant. the p-value is < 0.1: there is weak evidence that the correlation is significant. the p-value is > 0.1: there is no evidence that the correlation is significant."
        },
        {
            "metadata": {},
            "cell_type": "markdown",
            "source": "### Boxplot, QI XS111 contribution to 28D, 1- with XS111, 0 - Blank cement "
        },
        {
            "metadata": {},
            "cell_type": "code",
            "source": "sns.boxplot(x=\"XS111\", y=\"28D\", data=q_data)",
            "execution_count": 17,
            "outputs": [
                {
                    "output_type": "execute_result",
                    "execution_count": 17,
                    "data": {
                        "text/plain": "<matplotlib.axes._subplots.AxesSubplot at 0x7fa49192ab00>"
                    },
                    "metadata": {}
                },
                {
                    "output_type": "display_data",
                    "data": {
                        "text/plain": "<Figure size 432x288 with 1 Axes>",
                        "image/png": "[encoded data removed]"
                    },
                    "metadata": {
                        "needs_background": "light"
                    }
                }
            ]
        },
        {
            "metadata": {},
            "cell_type": "markdown",
            "source": "XS111 clearly demonstrated increased of compressive strength at 28 days  by 1 Mpa",
            "attachments": {}
        },
        {
            "metadata": {},
            "cell_type": "markdown",
            "source": "### Histogram, comparison treated cement vs nontreated "
        },
        {
            "metadata": {},
            "cell_type": "code",
            "source": "q_data1 = q_data[['28D','XS111']]",
            "execution_count": 18,
            "outputs": []
        },
        {
            "metadata": {},
            "cell_type": "code",
            "source": "treated = q_data1[q_data1['XS111'] > 0]",
            "execution_count": 19,
            "outputs": []
        },
        {
            "metadata": {},
            "cell_type": "code",
            "source": "blank = q_data1[q_data1['XS111'] < 1]",
            "execution_count": 20,
            "outputs": []
        },
        {
            "metadata": {},
            "cell_type": "code",
            "source": "plt.figure(figsize =[9,6])\nplt.title('Histograms of treated and blank cement ')\nplt.text(54, 2, r'Blank')\nplt.text(55.5, 9, r'XS111')\nplt.xlabel('28 days strength')\ntreated['28D'].plot.hist( bins = 10,color = 'green', alpha=0.5)\nblank['28D'].plot.hist(bins = 10, alpha=0.5)\n",
            "execution_count": 21,
            "outputs": [
                {
                    "output_type": "execute_result",
                    "execution_count": 21,
                    "data": {
                        "text/plain": "<matplotlib.axes._subplots.AxesSubplot at 0x7fa4918c3128>"
                    },
                    "metadata": {}
                },
                {
                    "output_type": "display_data",
                    "data": {
                        "text/plain": "<Figure size 648x432 with 1 Axes>",
                        "image/png": "[encoded data removed]"
                    },
                    "metadata": {
                        "needs_background": "light"
                    }
                }
            ]
        },
        {
            "metadata": {},
            "cell_type": "markdown",
            "source": "XS111 clearly demonstrated increased of compressive strength at 28 days  by 1 Mpa"
        },
        {
            "metadata": {},
            "cell_type": "code",
            "source": "blank.head()",
            "execution_count": 22,
            "outputs": [
                {
                    "output_type": "execute_result",
                    "execution_count": 22,
                    "data": {
                        "text/plain": "     28D  XS111\n2   53.6      0\n3   53.7      0\n10  56.6      0\n11  54.1      0\n12  53.7      0",
                        "text/html": "<div>\n<style scoped>\n    .dataframe tbody tr th:only-of-type {\n        vertical-align: middle;\n    }\n\n    .dataframe tbody tr th {\n        vertical-align: top;\n    }\n\n    .dataframe thead th {\n        text-align: right;\n    }\n</style>\n<table border=\"1\" class=\"dataframe\">\n  <thead>\n    <tr style=\"text-align: right;\">\n      <th></th>\n      <th>28D</th>\n      <th>XS111</th>\n    </tr>\n  </thead>\n  <tbody>\n    <tr>\n      <th>2</th>\n      <td>53.6</td>\n      <td>0</td>\n    </tr>\n    <tr>\n      <th>3</th>\n      <td>53.7</td>\n      <td>0</td>\n    </tr>\n    <tr>\n      <th>10</th>\n      <td>56.6</td>\n      <td>0</td>\n    </tr>\n    <tr>\n      <th>11</th>\n      <td>54.1</td>\n      <td>0</td>\n    </tr>\n    <tr>\n      <th>12</th>\n      <td>53.7</td>\n      <td>0</td>\n    </tr>\n  </tbody>\n</table>\n</div>"
                    },
                    "metadata": {}
                }
            ]
        },
        {
            "metadata": {},
            "cell_type": "code",
            "source": "treated = treated.drop(columns = 'XS111', axis = 1)\nblank = blank.drop(columns = 'XS111', axis = 1)\n",
            "execution_count": 23,
            "outputs": []
        },
        {
            "metadata": {},
            "cell_type": "markdown",
            "source": "### Qulaity distribution 28 days sterngth of cement treated with XS 111"
        },
        {
            "metadata": {},
            "cell_type": "code",
            "source": "treated.describe() \n\n\n\n\n\n",
            "execution_count": 24,
            "outputs": [
                {
                    "output_type": "execute_result",
                    "execution_count": 24,
                    "data": {
                        "text/plain": "              28D\ncount  123.000000\nmean    55.214634\nstd      1.350391\nmin     51.900000\n25%     54.100000\n50%     55.300000\n75%     56.200000\nmax     58.300000",
                        "text/html": "<div>\n<style scoped>\n    .dataframe tbody tr th:only-of-type {\n        vertical-align: middle;\n    }\n\n    .dataframe tbody tr th {\n        vertical-align: top;\n    }\n\n    .dataframe thead th {\n        text-align: right;\n    }\n</style>\n<table border=\"1\" class=\"dataframe\">\n  <thead>\n    <tr style=\"text-align: right;\">\n      <th></th>\n      <th>28D</th>\n    </tr>\n  </thead>\n  <tbody>\n    <tr>\n      <th>count</th>\n      <td>123.000000</td>\n    </tr>\n    <tr>\n      <th>mean</th>\n      <td>55.214634</td>\n    </tr>\n    <tr>\n      <th>std</th>\n      <td>1.350391</td>\n    </tr>\n    <tr>\n      <th>min</th>\n      <td>51.900000</td>\n    </tr>\n    <tr>\n      <th>25%</th>\n      <td>54.100000</td>\n    </tr>\n    <tr>\n      <th>50%</th>\n      <td>55.300000</td>\n    </tr>\n    <tr>\n      <th>75%</th>\n      <td>56.200000</td>\n    </tr>\n    <tr>\n      <th>max</th>\n      <td>58.300000</td>\n    </tr>\n  </tbody>\n</table>\n</div>"
                    },
                    "metadata": {}
                }
            ]
        },
        {
            "metadata": {},
            "cell_type": "markdown",
            "source": "### Qulaity distribution 28 days strength of blank cement"
        },
        {
            "metadata": {},
            "cell_type": "code",
            "source": "blank.describe()",
            "execution_count": 25,
            "outputs": [
                {
                    "output_type": "execute_result",
                    "execution_count": 25,
                    "data": {
                        "text/plain": "             28D\ncount  47.000000\nmean   54.442553\nstd     1.110962\nmin    52.100000\n25%    53.700000\n50%    54.200000\n75%    55.150000\nmax    56.600000",
                        "text/html": "<div>\n<style scoped>\n    .dataframe tbody tr th:only-of-type {\n        vertical-align: middle;\n    }\n\n    .dataframe tbody tr th {\n        vertical-align: top;\n    }\n\n    .dataframe thead th {\n        text-align: right;\n    }\n</style>\n<table border=\"1\" class=\"dataframe\">\n  <thead>\n    <tr style=\"text-align: right;\">\n      <th></th>\n      <th>28D</th>\n    </tr>\n  </thead>\n  <tbody>\n    <tr>\n      <th>count</th>\n      <td>47.000000</td>\n    </tr>\n    <tr>\n      <th>mean</th>\n      <td>54.442553</td>\n    </tr>\n    <tr>\n      <th>std</th>\n      <td>1.110962</td>\n    </tr>\n    <tr>\n      <th>min</th>\n      <td>52.100000</td>\n    </tr>\n    <tr>\n      <th>25%</th>\n      <td>53.700000</td>\n    </tr>\n    <tr>\n      <th>50%</th>\n      <td>54.200000</td>\n    </tr>\n    <tr>\n      <th>75%</th>\n      <td>55.150000</td>\n    </tr>\n    <tr>\n      <th>max</th>\n      <td>56.600000</td>\n    </tr>\n  </tbody>\n</table>\n</div>"
                    },
                    "metadata": {}
                }
            ]
        },
        {
            "metadata": {},
            "cell_type": "markdown",
            "source": "### Boxplot, QI XS111 correlation with Blaine"
        },
        {
            "metadata": {},
            "cell_type": "code",
            "source": "sns.boxplot(x=\"XS111\", y=\"Blaine\", data=q_data)",
            "execution_count": 26,
            "outputs": [
                {
                    "output_type": "execute_result",
                    "execution_count": 26,
                    "data": {
                        "text/plain": "<matplotlib.axes._subplots.AxesSubplot at 0x7fa49184e860>"
                    },
                    "metadata": {}
                },
                {
                    "output_type": "display_data",
                    "data": {
                        "text/plain": "<Figure size 432x288 with 1 Axes>",
                        "image/png": "[encoded data removed]"
                    },
                    "metadata": {
                        "needs_background": "light"
                    }
                }
            ]
        },
        {
            "metadata": {},
            "cell_type": "markdown",
            "source": "Blaine surface area of cement  treated with XU191 are similar to blank cement.\nIt means the increase is due activation of clinker by XS111 not by increase of cement  fineness.\n"
        },
        {
            "metadata": {},
            "cell_type": "code",
            "source": "data_blain = q_data[['Blaine','XS111']]",
            "execution_count": 27,
            "outputs": []
        },
        {
            "metadata": {},
            "cell_type": "code",
            "source": "treated_blain = data_blain[q_data1['XS111'] > 0]",
            "execution_count": 28,
            "outputs": []
        },
        {
            "metadata": {},
            "cell_type": "code",
            "source": "blank_blain = data_blain[q_data1['XS111'] < 1]",
            "execution_count": 29,
            "outputs": []
        },
        {
            "metadata": {},
            "cell_type": "markdown",
            "source": "### Histogram, Blaine  distribution and XU 111 addition "
        },
        {
            "metadata": {},
            "cell_type": "code",
            "source": "plt.figure(figsize =[9,6])\nplt.title('Histograms , Blain of  treated and blank cement ')\nplt.text(4100, 2, r'Blank')\nplt.text(4100, 10, r'XS111')\nplt.xlabel('Blaine')\ntreated_blain['Blaine'].plot.hist( bins = 10,color = 'brown', alpha=0.5)\nblank_blain['Blaine'].plot.hist(bins = 10, alpha=0.5)",
            "execution_count": 30,
            "outputs": [
                {
                    "output_type": "execute_result",
                    "execution_count": 30,
                    "data": {
                        "text/plain": "<matplotlib.axes._subplots.AxesSubplot at 0x7fa4917654e0>"
                    },
                    "metadata": {}
                },
                {
                    "output_type": "display_data",
                    "data": {
                        "text/plain": "<Figure size 648x432 with 1 Axes>",
                        "image/png": "[encoded data removed]"
                    },
                    "metadata": {
                        "needs_background": "light"
                    }
                }
            ]
        },
        {
            "metadata": {},
            "cell_type": "markdown",
            "source": "           there is no correlation between Blain and addition  XS111"
        },
        {
            "metadata": {},
            "cell_type": "code",
            "source": "treated_blain['Blaine'].describe()",
            "execution_count": 31,
            "outputs": [
                {
                    "output_type": "execute_result",
                    "execution_count": 31,
                    "data": {
                        "text/plain": "count     123.000000\nmean     4086.764228\nstd        98.455372\nmin      3857.000000\n25%      4006.000000\n50%      4103.000000\n75%      4150.000000\nmax      4282.000000\nName: Blaine, dtype: float64"
                    },
                    "metadata": {}
                }
            ]
        },
        {
            "metadata": {},
            "cell_type": "markdown",
            "source": "descriptive statistical analysis of  cement treated by XS 111"
        },
        {
            "metadata": {},
            "cell_type": "code",
            "source": "blank_blain['Blaine'].describe()",
            "execution_count": 32,
            "outputs": [
                {
                    "output_type": "execute_result",
                    "execution_count": 32,
                    "data": {
                        "text/plain": "count      47.000000\nmean     4088.042553\nstd       100.891021\nmin      3893.000000\n25%      4012.500000\n50%      4103.000000\n75%      4162.500000\nmax      4282.000000\nName: Blaine, dtype: float64"
                    },
                    "metadata": {}
                }
            ]
        },
        {
            "metadata": {},
            "cell_type": "markdown",
            "source": "descriptive statistical analysis of the blank  cement "
        }
    ],
    "metadata": {
        "kernelspec": {
            "name": "python3",
            "display_name": "Python 3.6",
            "language": "python"
        },
        "language_info": {
            "name": "python",
            "version": "3.6.8",
            "mimetype": "text/x-python",
            "codemirror_mode": {
                "name": "ipython",
                "version": 3
            },
            "pygments_lexer": "ipython3",
            "nbconvert_exporter": "python",
            "file_extension": ".py"
        }
    },
    "nbformat": 4,
    "nbformat_minor": 1
}